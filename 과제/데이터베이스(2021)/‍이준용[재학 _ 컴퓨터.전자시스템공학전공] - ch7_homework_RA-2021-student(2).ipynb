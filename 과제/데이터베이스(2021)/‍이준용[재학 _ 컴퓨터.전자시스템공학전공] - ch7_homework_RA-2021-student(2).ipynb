{
 "cells": [
  {
   "cell_type": "markdown",
   "metadata": {
    "colab_type": "text",
    "id": "cGbn68fuu5u8"
   },
   "source": [
    "# Homework 2. Relational Algebra"
   ]
  },
  {
   "cell_type": "markdown",
   "metadata": {},
   "source": [
    "1. Use Google Colabortory and do your homework.\n",
    "3. (In Google colaboratory) Before you submit your homework, restart kernel and run all the cells.(채점자가 cell을 실행하지 않음)\n",
    "4. Save (File->Save) the file\n",
    "5. Submit your homework (this file) in Google classroom\n",
    "6. **Don't forget to click \"제출\" button** (\"Submit\", \"완료로 표시\", 또는 \"제출\" 버턴을 누르지 않으면 제출된 것이 아님)\n",
    "7. No late homeworks will be accepted for any reason!"
   ]
  },
  {
   "cell_type": "markdown",
   "metadata": {},
   "source": [
    "To edit this cell, double click here\n",
    "```\n",
    "이름:_______________________\n",
    "학번:_______________________\n",
    "학과:_______________________\n",
    "제출일:______________________\n",
    "```"
   ]
  },
  {
   "cell_type": "markdown",
   "metadata": {},
   "source": [
    "## CompanyDB Schema\n",
    "\n",
    "### Note that attribute names are capitalized\n",
    "```\n",
    "E(Fname,Minit,Lname,Ssn,Bdate,Address,Sex,Salary,Superssn,Dno)\n",
    "D(Dname,Dnumber,Mgrssn,Mgrstartdate)\n",
    "DL(Dnumber,Dlocation)\n",
    "P(Pname,Pnumber,Plocation,Dnum)\n",
    "WO(Essn,Pno,Hours)\n",
    "DE(Essn,Dependent_name,Sex,Bdate,Relationship)\n",
    "```"
   ]
  },
  {
   "cell_type": "markdown",
   "metadata": {
    "colab_type": "text",
    "id": "pUDDFn7eu5u9"
   },
   "source": [
    "## First, run the following cell before you do your homework"
   ]
  },
  {
   "cell_type": "markdown",
   "metadata": {
    "colab_type": "text",
    "id": "P1PmB-Q2u5u9"
   },
   "source": [
    "## DB setup"
   ]
  },
  {
   "cell_type": "code",
   "execution_count": 28,
   "metadata": {
    "colab": {},
    "colab_type": "code",
    "executionInfo": {
     "elapsed": 1370,
     "status": "ok",
     "timestamp": 1600772358085,
     "user": {
      "displayName": "손기락",
      "photoUrl": "",
      "userId": "00106551647934627837"
     },
     "user_tz": -540
    },
    "id": "9LZeWDA7u5u-"
   },
   "outputs": [],
   "source": [
    "EMPLOYEE_csv = 'Fname,Minit,Lname,Ssn,Bdate,Address,Sex,Salary,Superssn,Dno\\r\\nJohn,B,Smith,123456789,1965-01-09,731-Fondren-Houston-TX,M,30000.00,333445555,5\\r\\nFranklin,T,Wong,333445555,1955-12-08,638-Voss-Houston-TX,M,40000.00,888665555,5\\r\\nJoyce,A,English,453453453,1972-07-31,5631-Rice-Houston-TX,F,25000.00,333445555,5\\r\\nRamesh,K,Narayan,666884444,1962-09-15,975-Fire-Oak-Humble-TX,M,38000.00,333445555,5\\r\\nJames,E,Borg,888665555,1937-11-10,450-Stone-Houston-TX,M,55000.00,,1\\r\\nJennifer,S,Wallace,987654321,1941-06-20,291-Berry-Bellaire-TX,F,43000.00,888665555,4\\r\\nAhmad,V,Jabbar,987987987,1969-03-29,980-Dallas-Houston-TX,M,25000.00,987654321,4\\r\\nAlicia,J,Zelaya,999887777,1968-01-19,3321-Castle-Spring-TX,F,25000.00,987654321,4\\r\\n'\n",
    "DEPARTMENT_csv = 'Dname,Dnumber,Mgrssn,Mgrstartdate\\r\\nHeadquarters,1,888665555,1981-06-19\\r\\nAdministration,4,987654321,1995-01-01\\r\\nResearch,5,333445555,1988-05-22\\r\\n'\n",
    "DEPT_LOCATIONS_csv = 'Dnumber,Dlocation\\r\\n1,Houston\\r\\n4,Stafford\\r\\n5,Bellaire\\r\\n5,Houston\\r\\n5,Sugarland\\r\\n'\n",
    "PROJECT_csv = 'Pname,Pnumber,Plocation,Dnum\\r\\nProductX,1,Bellaire,5\\r\\nProductY,2,Sugarland,5\\r\\nProductZ,3,Houston,5\\r\\nComputerization,10,Stafford,4\\r\\nReorganization,20,Houston,1\\r\\nNewbenefits,30,Stafford,4\\r\\n'\n",
    "WORKS_ON_csv = 'Essn,Pno,Hours\\r\\n123456789,1,32.5\\r\\n123456789,2,7.5\\r\\n333445555,2,10.0\\r\\n333445555,3,10.0\\r\\n333445555,10,10.0\\r\\n333445555,20,10.0\\r\\n453453453,1,20.0\\r\\n453453453,2,20.0\\r\\n666884444,3,40.0\\r\\n888665555,20,\\r\\n987654321,20,15.0\\r\\n987654321,30,20.0\\r\\n987987987,10,35.0\\r\\n987987987,30,5.0\\r\\n999887777,10,10.0\\r\\n999887777,30,30.0\\r\\n'\n",
    "DEPENDENT_csv = 'Essn,Dependent_name,Sex,Bdate,Relationship\\r\\n123456789,Alice,F,1988-12-30,Daughter\\r\\n123456789,Elizabeth,F,1967-05-05,Spouse\\r\\n123456789,Michael,M,1988-01-04,Son\\r\\n333445555,Alice,F,1986-04-05,Daughter\\r\\n333445555,Joy,F,1958-05-03,Spouse\\r\\n333445555,Theodore,M,1983-10-25,Son\\r\\n987654321,Abner,M,1942-02-28,Spouse\\r\\n'\n",
    "\n",
    "# import packages\n",
    "\n",
    "import pandas as pd\n",
    "from io import StringIO \n",
    "import re\n",
    "\n",
    "# Tables\n",
    "EMPLOYEE = pd.read_csv(StringIO(EMPLOYEE_csv))\n",
    "DEPARTMENT = pd.read_csv(StringIO(DEPARTMENT_csv))\n",
    "DEPT_LOCATIONS = pd.read_csv(StringIO(DEPT_LOCATIONS_csv))\n",
    "PROJECT = pd.read_csv(StringIO(PROJECT_csv))\n",
    "WORKS_ON = pd.read_csv(StringIO(WORKS_ON_csv))\n",
    "DEPENDENT = pd.read_csv(StringIO(DEPENDENT_csv))\n",
    "\n",
    "# short_names for Tables\n",
    "E = EMPLOYEE\n",
    "D = DEPARTMENT\n",
    "DL = DEPT_LOCATIONS\n",
    "P = PROJECT\n",
    "WO = WORKS_ON\n",
    "DE = DEPENDENT\n",
    "\n",
    "def rename(R, C):\n",
    "    return R.rename(columns=C)\n",
    "\n",
    "def select(R, C):\n",
    "    # The following substitution may NOT work \n",
    "    # when column name is equal to a string value in C\n",
    "    tokens = re.split(r'(\\W+)', C)\n",
    "    new_tokens = [\"R.\" + token  if token in R.columns else token \\\n",
    "                  for token in tokens] \n",
    "    selected = eval(''.join(new_tokens))\n",
    "    return R[selected].reset_index(drop=True)\n",
    "\n",
    "def project(R, C):\n",
    "    return R[C].drop_duplicates().reset_index(drop=True)\n",
    "\n",
    "def union(R, S):\n",
    "    S.columns = R.columns\n",
    "    T = pd.concat([R, S], ignore_index=True)\n",
    "    T = T.drop_duplicates().reset_index(drop=True)\n",
    "    return T\n",
    "\n",
    "def intersect(R, S):\n",
    "    S.columns = R.columns\n",
    "    return R.merge(S).reset_index(drop=True)\n",
    "\n",
    "def minus(R, S):\n",
    "    S.columns = R.columns\n",
    "    return pd.concat([R, S, S]).drop_duplicates(keep=False).reset_index(drop=True)\n",
    "\n",
    "def product(R, S):\n",
    "    \"\"\"Determine Cartesian product of two data frames.\"\"\"\n",
    "    key = 'key'\n",
    "    while key in R.columns or key in S.columns:\n",
    "        key = '_' + key\n",
    "    key_d = {key: 0}\n",
    "    return pd.merge(R.assign(**key_d), S.assign(**key_d), on=key)\\\n",
    "           .drop(key, axis=1).reset_index(drop=True)\n",
    "\n",
    "def natural_join(R, S):\n",
    "    return pd.merge(R, S).reset_index(drop=True)\n",
    "\n",
    "def natural_join2(R, S, keys_R, keys_S):\n",
    "    return pd.merge(R, S, left_on=keys_R, right_on=keys_S)\\\n",
    "           .drop(keys_S, axis=1).reset_index(drop=True)\n",
    "\n",
    "def division(R, S):\n",
    "    Z = set(R.columns)\n",
    "    X = set(S.columns)\n",
    "    assert X <= Z\n",
    "    Y = pd.Index(Z - X)\n",
    "    T1 = project(R, Y)\n",
    "    T2 = project(minus(product(T1, S), R), Y)\n",
    "    T = minus(T1, T2)\n",
    "    return T.reset_index(drop=True)"
   ]
  },
  {
   "cell_type": "markdown",
   "metadata": {},
   "source": [
    "## <font color='red'>Query Statement에 나타나지 않은 상수(값)을 사용하면 무조건 0점 처리됨. 예를 들어, Query 1에서 \"Research\"라는 상수값만 나타나야 함</font>\n",
    "\n",
    "## 각 질의당 10점"
   ]
  },
  {
   "cell_type": "markdown",
   "metadata": {},
   "source": [
    "### Query 1: Retrieve the last name, first name, and address of employees who work for the \"Research\" department. (Use cartesian product. Do NOT use join)"
   ]
  },
  {
   "cell_type": "code",
   "execution_count": 38,
   "metadata": {
    "scrolled": true
   },
   "outputs": [
    {
     "data": {
      "text/html": [
       "<div>\n",
       "<style scoped>\n",
       "    .dataframe tbody tr th:only-of-type {\n",
       "        vertical-align: middle;\n",
       "    }\n",
       "\n",
       "    .dataframe tbody tr th {\n",
       "        vertical-align: top;\n",
       "    }\n",
       "\n",
       "    .dataframe thead th {\n",
       "        text-align: right;\n",
       "    }\n",
       "</style>\n",
       "<table border=\"1\" class=\"dataframe\">\n",
       "  <thead>\n",
       "    <tr style=\"text-align: right;\">\n",
       "      <th></th>\n",
       "      <th>Lname</th>\n",
       "      <th>Fname</th>\n",
       "      <th>Address</th>\n",
       "    </tr>\n",
       "  </thead>\n",
       "  <tbody>\n",
       "    <tr>\n",
       "      <th>0</th>\n",
       "      <td>Smith</td>\n",
       "      <td>John</td>\n",
       "      <td>731-Fondren-Houston-TX</td>\n",
       "    </tr>\n",
       "    <tr>\n",
       "      <th>1</th>\n",
       "      <td>Wong</td>\n",
       "      <td>Franklin</td>\n",
       "      <td>638-Voss-Houston-TX</td>\n",
       "    </tr>\n",
       "    <tr>\n",
       "      <th>2</th>\n",
       "      <td>English</td>\n",
       "      <td>Joyce</td>\n",
       "      <td>5631-Rice-Houston-TX</td>\n",
       "    </tr>\n",
       "    <tr>\n",
       "      <th>3</th>\n",
       "      <td>Narayan</td>\n",
       "      <td>Ramesh</td>\n",
       "      <td>975-Fire-Oak-Humble-TX</td>\n",
       "    </tr>\n",
       "  </tbody>\n",
       "</table>\n",
       "</div>"
      ],
      "text/plain": [
       "     Lname     Fname                 Address\n",
       "0    Smith      John  731-Fondren-Houston-TX\n",
       "1     Wong  Franklin     638-Voss-Houston-TX\n",
       "2  English     Joyce    5631-Rice-Houston-TX\n",
       "3  Narayan    Ramesh  975-Fire-Oak-Humble-TX"
      ]
     },
     "execution_count": 38,
     "metadata": {},
     "output_type": "execute_result"
    }
   ],
   "source": [
    "# YOUR CODE HERE\n",
    "T = select(D, \"Dname=='Research'\")\n",
    "U = select(product(E, T), \"Dno==Dnumber\")\n",
    "project(U, ['Lname', 'Fname', 'Address'])"
   ]
  },
  {
   "cell_type": "markdown",
   "metadata": {},
   "source": [
    "### Query 2: Retrieve the last name, first name, and address of employees who work for the \"Research\" department. (Do NOT use cartesian product. Use natural join)"
   ]
  },
  {
   "cell_type": "code",
   "execution_count": null,
   "metadata": {},
   "outputs": [],
   "source": [
    "# YOUR CODE HERE\n"
   ]
  },
  {
   "cell_type": "markdown",
   "metadata": {},
   "source": [
    "### Query 3: For every project located in \"Stafford\", list the project name, the controlling department name, and the department manager's last name, first name. (Use natural_join2, No cartesian products and natural joins are allowed)"
   ]
  },
  {
   "cell_type": "code",
   "execution_count": null,
   "metadata": {},
   "outputs": [],
   "source": [
    "# YOUR CODE HERE\n"
   ]
  },
  {
   "cell_type": "markdown",
   "metadata": {},
   "source": [
    "### Query 4: Find the last name, first name of employees who work on all the projects controlled by department number 4."
   ]
  },
  {
   "cell_type": "code",
   "execution_count": null,
   "metadata": {},
   "outputs": [],
   "source": [
    "# YOUR CODE HERE\n"
   ]
  },
  {
   "cell_type": "markdown",
   "metadata": {},
   "source": [
    "### Query 5: Make a list of project names for projects that involve an employee whose last name is \"Wallace\", either as a worker or as a manager of the department that controls the project."
   ]
  },
  {
   "cell_type": "code",
   "execution_count": null,
   "metadata": {},
   "outputs": [],
   "source": [
    "# YOUR CODE HERE\n"
   ]
  },
  {
   "cell_type": "markdown",
   "metadata": {},
   "source": [
    "### Query 6: List the last name, first name of all employees with two or more dependents. (Do NOT use aggregate operator)"
   ]
  },
  {
   "cell_type": "code",
   "execution_count": null,
   "metadata": {},
   "outputs": [],
   "source": [
    "# YOUR CODE HERE\n"
   ]
  },
  {
   "cell_type": "markdown",
   "metadata": {},
   "source": [
    "### Query 7: Retrieve the last name, first name of employees who have no dependents."
   ]
  },
  {
   "cell_type": "code",
   "execution_count": null,
   "metadata": {},
   "outputs": [],
   "source": [
    "# YOUR CODE HERE\n"
   ]
  },
  {
   "cell_type": "markdown",
   "metadata": {},
   "source": [
    "### Query 8: List the last name, first name of managers who have at least one dependent."
   ]
  },
  {
   "cell_type": "code",
   "execution_count": null,
   "metadata": {},
   "outputs": [],
   "source": [
    "# YOUR CODE HERE\n"
   ]
  },
  {
   "cell_type": "markdown",
   "metadata": {},
   "source": [
    "### Query 9: Retrieve the last name, first name of all employees in department 5 who work more than 10 hours per week on the ProductX project."
   ]
  },
  {
   "cell_type": "code",
   "execution_count": null,
   "metadata": {},
   "outputs": [],
   "source": [
    "# YOUR CODE HERE\n"
   ]
  },
  {
   "cell_type": "markdown",
   "metadata": {},
   "source": [
    "### Query 10: Retrieve the last name, first name of all employees who is supervised by James Borg"
   ]
  },
  {
   "cell_type": "code",
   "execution_count": null,
   "metadata": {},
   "outputs": [],
   "source": [
    "# YOUR CODE HERE\n"
   ]
  }
 ],
 "metadata": {
  "colab": {
   "name": "ch7_RA_operators_using_pandas-student.ipynb",
   "provenance": []
  },
  "kernelspec": {
   "display_name": "Python 3",
   "language": "python",
   "name": "python3"
  },
  "language_info": {
   "codemirror_mode": {
    "name": "ipython",
    "version": 3
   },
   "file_extension": ".py",
   "mimetype": "text/x-python",
   "name": "python",
   "nbconvert_exporter": "python",
   "pygments_lexer": "ipython3",
   "version": "3.7.3"
  }
 },
 "nbformat": 4,
 "nbformat_minor": 4
}
